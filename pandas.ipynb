{
 "cells": [
  {
   "cell_type": "code",
   "execution_count": 1,
   "metadata": {},
   "outputs": [],
   "source": [
    "import pandas as pd"
   ]
  },
  {
   "cell_type": "code",
   "execution_count": 21,
   "metadata": {},
   "outputs": [
    {
     "name": "stdout",
     "output_type": "stream",
     "text": [
      "4    50\n",
      "5    60\n",
      "dtype: int64\n",
      "0    10\n",
      "1    20\n",
      "2    30\n",
      "3    40\n",
      "4    50\n",
      "5    60\n",
      "6    70\n",
      "dtype: int64\n"
     ]
    }
   ],
   "source": [
    "s1 = pd.Series([10,20,30,40,50,60,70])\n",
    "print(s1[4:-1])\n",
    "print(s1)"
   ]
  },
  {
   "cell_type": "code",
   "execution_count": 14,
   "metadata": {},
   "outputs": [
    {
     "name": "stdout",
     "output_type": "stream",
     "text": [
      "a    10\n",
      "b    20\n",
      "c    30\n",
      "d    40\n",
      "e    50\n",
      "f    60\n",
      "g    70\n",
      "h    80\n",
      "dtype: int64\n"
     ]
    }
   ],
   "source": [
    "s1 = pd.Series([10,20,30,40,50,60,70,80],index = [\"a\",\"b\",\"c\",\"d\",\"e\",\"f\",\"g\",\"h\"])\n",
    "print(s1)"
   ]
  },
  {
   "cell_type": "code",
   "execution_count": 7,
   "metadata": {},
   "outputs": [
    {
     "name": "stdout",
     "output_type": "stream",
     "text": [
      "a    12\n",
      "b    20\n",
      "c    40\n",
      "d    77\n",
      "dtype: int64\n"
     ]
    }
   ],
   "source": [
    "a = pd.Series({\"a\":12,\"b\":20,\"c\":40,\"d\":77 })\n",
    "print(a)"
   ]
  },
  {
   "cell_type": "code",
   "execution_count": 19,
   "metadata": {},
   "outputs": [
    {
     "name": "stdout",
     "output_type": "stream",
     "text": [
      "0    140\n",
      "1    250\n",
      "2    360\n",
      "3    470\n",
      "4    580\n",
      "5    690\n",
      "6    800\n",
      "7    910\n",
      "dtype: int64\n",
      "9200\n",
      "0    10\n",
      "1    20\n",
      "2    30\n",
      "3    40\n",
      "4    50\n",
      "5    60\n",
      "6    70\n",
      "7    80\n",
      "dtype: int64\n"
     ]
    }
   ],
   "source": [
    "# basic math operations \n",
    "s1 = pd.Series([10,20,30,40,50,60,70,80])\n",
    "s2 = pd.Series([130,230,330,430,530,630,730,830])\n",
    "print(s1+s2)\n",
    "print(s1[3]*s2[1])\n",
    "print(s1%s2)\n"
   ]
  },
  {
   "cell_type": "code",
   "execution_count": 3,
   "metadata": {},
   "outputs": [
    {
     "name": "stdout",
     "output_type": "stream",
     "text": [
      "     name  marks\n",
      "0     sam    220\n",
      "1   jaara    300\n",
      "2  jaijai    400\n"
     ]
    }
   ],
   "source": [
    "# data frames in pandas\n",
    "ar = pd.DataFrame({\"name\":[\"sam\",\"jaara\",\"jaijai\"],\"marks\":[220,300,400]})\n",
    "print(ar)"
   ]
  },
  {
   "cell_type": "code",
   "execution_count": 6,
   "metadata": {},
   "outputs": [
    {
     "name": "stdout",
     "output_type": "stream",
     "text": [
      "     name  marks\n",
      "1   jaara     90\n",
      "2  jaijai     49\n",
      "3    arsk     55\n",
      "4     sai     99\n",
      "5   racky    100\n",
      "     name  marks\n",
      "0     sam     70\n",
      "1   jaara     90\n",
      "2  jaijai     49\n",
      "3    arsk     55\n",
      "4     sai     99\n"
     ]
    }
   ],
   "source": [
    "import pandas as pd\n",
    "ar = pd.DataFrame({\"name\":[\"sam\",\"jaara\",\"jaijai\",\"arsk\",\"sai\",\"racky\"],\"marks\":[70,90,49,55,99,100]})\n",
    "head_of = ar.head()\n",
    "tail_of = ar.tail()\n",
    "print(tail_of)\n",
    "print(head_of)"
   ]
  },
  {
   "cell_type": "code",
   "execution_count": 25,
   "metadata": {},
   "outputs": [
    {
     "name": "stdout",
     "output_type": "stream",
     "text": [
      "            marks\n",
      "count    6.000000\n",
      "mean    77.166667\n",
      "std     22.355462\n",
      "min     49.000000\n",
      "25%     58.750000\n",
      "50%     80.000000\n",
      "75%     96.750000\n",
      "max    100.000000\n",
      "(6, 2)\n"
     ]
    }
   ],
   "source": [
    "import pandas as pd\n",
    "ar = pd.DataFrame({\"name\":[\"sam\",\"jaara\",\"jaijai\",\"arsk\",\"sai\",\"racky\"],\"marks\":[70,90,49,55,99,100]})\n",
    "shape_of = ar.shape\n",
    "describe_of = ar.describe()\n",
    "print(describe_of)\n",
    "print(shape_of)"
   ]
  },
  {
   "cell_type": "code",
   "execution_count": 10,
   "metadata": {},
   "outputs": [
    {
     "name": "stdout",
     "output_type": "stream",
     "text": [
      "     name  marks\n",
      "1   jaara     90\n",
      "2  jaijai     49\n",
      "3    arsk     55\n",
      "     name  marks\n",
      "0     sam     70\n",
      "1   jaara     90\n",
      "2  jaijai     49\n",
      "3    arsk     55\n"
     ]
    }
   ],
   "source": [
    "import pandas as pd\n",
    "ar = pd.DataFrame({\"name\":[\"sam\",\"jaara\",\"jaijai\",\"arsk\",\"sai\",\"racky\"],\"marks\":[70,90,49,55,99,100]})\n",
    "iloc_of = ar.iloc[1:4]\n",
    "print(iloc_of)\n",
    "loc_of = ar.loc[0:3,(\"name\",\"marks\")]\n",
    "print(loc_of)"
   ]
  },
  {
   "cell_type": "code",
   "execution_count": 15,
   "metadata": {},
   "outputs": [
    {
     "name": "stdout",
     "output_type": "stream",
     "text": [
      "marks    77.166667\n",
      "dtype: float64\n",
      "marks    80.0\n",
      "dtype: float64\n",
      "name     arsk\n",
      "marks      49\n",
      "dtype: object\n",
      "name     sam\n",
      "marks    100\n",
      "dtype: object\n",
      "   marks\n",
      "0     70\n",
      "1     90\n",
      "2     49\n",
      "3     55\n",
      "4     99\n",
      "5    100\n"
     ]
    }
   ],
   "source": [
    "import pandas as pd\n",
    "ar = pd.DataFrame({\"name\":[\"sam\",\"jaara\",\"jaijai\",\"arsk\",\"sai\",\"racky\"],\"marks\":[70,90,49,55,99,100]})\n",
    "drop_of = ar.drop(\"name\",axis = 1)\n",
    "print(ar.mean())\n",
    "print(ar.median())\n",
    "print(ar.min())\n",
    "print(ar.max())\n",
    "print(drop_of)"
   ]
  },
  {
   "cell_type": "code",
   "execution_count": 20,
   "metadata": {},
   "outputs": [
    {
     "data": {
      "text/html": [
       "<div>\n",
       "<style scoped>\n",
       "    .dataframe tbody tr th:only-of-type {\n",
       "        vertical-align: middle;\n",
       "    }\n",
       "\n",
       "    .dataframe tbody tr th {\n",
       "        vertical-align: top;\n",
       "    }\n",
       "\n",
       "    .dataframe thead th {\n",
       "        text-align: right;\n",
       "    }\n",
       "</style>\n",
       "<table border=\"1\" class=\"dataframe\">\n",
       "  <thead>\n",
       "    <tr style=\"text-align: right;\">\n",
       "      <th></th>\n",
       "      <th>name</th>\n",
       "      <th>marks</th>\n",
       "    </tr>\n",
       "  </thead>\n",
       "  <tbody>\n",
       "    <tr>\n",
       "      <th>2</th>\n",
       "      <td>jaijai</td>\n",
       "      <td>49</td>\n",
       "    </tr>\n",
       "    <tr>\n",
       "      <th>3</th>\n",
       "      <td>arsk</td>\n",
       "      <td>55</td>\n",
       "    </tr>\n",
       "    <tr>\n",
       "      <th>0</th>\n",
       "      <td>sam</td>\n",
       "      <td>70</td>\n",
       "    </tr>\n",
       "    <tr>\n",
       "      <th>1</th>\n",
       "      <td>jaara</td>\n",
       "      <td>90</td>\n",
       "    </tr>\n",
       "    <tr>\n",
       "      <th>4</th>\n",
       "      <td>sai</td>\n",
       "      <td>99</td>\n",
       "    </tr>\n",
       "    <tr>\n",
       "      <th>5</th>\n",
       "      <td>racky</td>\n",
       "      <td>100</td>\n",
       "    </tr>\n",
       "  </tbody>\n",
       "</table>\n",
       "</div>"
      ],
      "text/plain": [
       "     name  marks\n",
       "2  jaijai     49\n",
       "3    arsk     55\n",
       "0     sam     70\n",
       "1   jaara     90\n",
       "4     sai     99\n",
       "5   racky    100"
      ]
     },
     "execution_count": 20,
     "metadata": {},
     "output_type": "execute_result"
    }
   ],
   "source": [
    "import pandas as pd\n",
    "ar = pd.DataFrame({\"name\":[\"sam\",\"jaara\",\"jaijai\",\"arsk\",\"sai\",\"racky\"],\"marks\":[70,90,49,55,99,100]})\n",
    "def double_make(s):\n",
    "    return s*2\n",
    "ar[[\"marks\"]].apply(double_make)\n",
    "ar[\"marks\"].value_counts()\n",
    "ar.sort_values(by = \"marks\")"
   ]
  },
  {
   "cell_type": "code",
   "execution_count": null,
   "metadata": {},
   "outputs": [],
   "source": []
  }
 ],
 "metadata": {
  "kernelspec": {
   "display_name": "Python 3",
   "language": "python",
   "name": "python3"
  },
  "language_info": {
   "codemirror_mode": {
    "name": "ipython",
    "version": 3
   },
   "file_extension": ".py",
   "mimetype": "text/x-python",
   "name": "python",
   "nbconvert_exporter": "python",
   "pygments_lexer": "ipython3",
   "version": "3.8.5"
  }
 },
 "nbformat": 4,
 "nbformat_minor": 4
}
